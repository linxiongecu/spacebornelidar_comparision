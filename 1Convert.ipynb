{
 "cells": [
  {
   "cell_type": "code",
   "execution_count": 6,
   "id": "d6fd51bf",
   "metadata": {},
   "outputs": [
    {
     "name": "stdout",
     "output_type": "stream",
     "text": [
      "                   treecover2000  loss  gain  lossyear  datamask   \n",
      "shot_number                                                        \n",
      "29730000100067436           99.0   0.0   0.0       0.0       1.0  \\\n",
      "29730000100067437          100.0   0.0   0.0       0.0       1.0   \n",
      "29730000100067438          100.0   0.0   0.0       0.0       1.0   \n",
      "29730000100067439          100.0   0.0   0.0       0.0       1.0   \n",
      "29730000100067440          100.0   0.0   0.0       0.0       1.0   \n",
      "\n",
      "                   loss_sum_3x3  relative_pixel_distance  \n",
      "shot_number                                               \n",
      "29730000100067436           0.0                 0.247313  \n",
      "29730000100067437           0.0                 0.219064  \n",
      "29730000100067438           0.0                 0.382270  \n",
      "29730000100067439           0.0                 0.301907  \n",
      "29730000100067440           0.0                 0.235105  \n"
     ]
    }
   ],
   "source": [
    "import pandas as pd\n",
    "import pyarrow.parquet as pq\n",
    "\n",
    "# Specify the Parquet file path\n",
    "file_path = \"calval_hansen_forest_loss_20230425.parquet\"\n",
    "\n",
    "# Read the Parquet file\n",
    "parquet_data = pd.read_parquet(file_path)\n",
    "print(parquet_data.head())"
   ]
  },
  {
   "cell_type": "code",
   "execution_count": 9,
   "id": "887d5cd5",
   "metadata": {},
   "outputs": [
    {
     "name": "stdout",
     "output_type": "stream",
     "text": [
      "DataFrame name: Index(['treecover2000', 'loss', 'gain', 'lossyear', 'datamask', 'loss_sum_3x3',\n",
      "       'relative_pixel_distance'],\n",
      "      dtype='object')\n"
     ]
    }
   ],
   "source": [
    "# Get the name of the variable assigned to the DataFrame\n",
    "\n",
    "print(\"DataFrame name:\", parquet_data.columns)"
   ]
  },
  {
   "cell_type": "code",
   "execution_count": 10,
   "id": "30087e85",
   "metadata": {},
   "outputs": [
    {
     "name": "stdout",
     "output_type": "stream",
     "text": [
      "                shot_number  treecover2000  loss  gain  lossyear  datamask   \n",
      "0         29730000100067436           99.0   0.0   0.0       0.0       1.0  \\\n",
      "1         29730000100067437          100.0   0.0   0.0       0.0       1.0   \n",
      "2         29730000100067438          100.0   0.0   0.0       0.0       1.0   \n",
      "3         29730000100067439          100.0   0.0   0.0       0.0       1.0   \n",
      "4         29730000100067440          100.0   0.0   0.0       0.0       1.0   \n",
      "...                     ...            ...   ...   ...       ...       ...   \n",
      "5751840  136810800100097908           99.0   0.0   0.0       0.0       1.0   \n",
      "5751841  136810800100097909           97.0   0.0   0.0       0.0       1.0   \n",
      "5751842  136810800100097910          100.0   0.0   0.0       0.0       1.0   \n",
      "5751843  136810800100097911           99.0   0.0   0.0       0.0       1.0   \n",
      "5751844  136810800100097912           99.0   0.0   0.0       0.0       1.0   \n",
      "\n",
      "         loss_sum_3x3  relative_pixel_distance  \n",
      "0                 0.0                 0.247313  \n",
      "1                 0.0                 0.219064  \n",
      "2                 0.0                 0.382270  \n",
      "3                 0.0                 0.301907  \n",
      "4                 0.0                 0.235105  \n",
      "...               ...                      ...  \n",
      "5751840           0.0                 0.309754  \n",
      "5751841           0.0                 0.407586  \n",
      "5751842           0.0                 0.254178  \n",
      "5751843           0.0                 0.351918  \n",
      "5751844           0.0                 0.082750  \n",
      "\n",
      "[5751845 rows x 8 columns]\n"
     ]
    }
   ],
   "source": [
    "df_with_row_number = parquet_data.reset_index()\n",
    "\n",
    "# Print the DataFrame with row numbers\n",
    "print(df_with_row_number)"
   ]
  },
  {
   "cell_type": "code",
   "execution_count": 12,
   "id": "0f57ab96",
   "metadata": {},
   "outputs": [
    {
     "name": "stdout",
     "output_type": "stream",
     "text": [
      "DataFrame name: Index(['shot_number', 'treecover2000', 'loss', 'gain', 'lossyear', 'datamask',\n",
      "       'loss_sum_3x3', 'relative_pixel_distance'],\n",
      "      dtype='object')\n"
     ]
    }
   ],
   "source": [
    "print(\"DataFrame name:\", df_with_row_number.columns)"
   ]
  },
  {
   "cell_type": "code",
   "execution_count": 13,
   "id": "c121aeed",
   "metadata": {},
   "outputs": [
    {
     "name": "stdout",
     "output_type": "stream",
     "text": [
      "                shot_number  treecover2000  loss  gain  lossyear  datamask   \n",
      "0         29730000100067436           99.0   0.0   0.0       0.0       1.0  \\\n",
      "1         29730000100067437          100.0   0.0   0.0       0.0       1.0   \n",
      "2         29730000100067438          100.0   0.0   0.0       0.0       1.0   \n",
      "3         29730000100067439          100.0   0.0   0.0       0.0       1.0   \n",
      "4         29730000100067440          100.0   0.0   0.0       0.0       1.0   \n",
      "...                     ...            ...   ...   ...       ...       ...   \n",
      "5751840  136810800100097908           99.0   0.0   0.0       0.0       1.0   \n",
      "5751841  136810800100097909           97.0   0.0   0.0       0.0       1.0   \n",
      "5751842  136810800100097910          100.0   0.0   0.0       0.0       1.0   \n",
      "5751843  136810800100097911           99.0   0.0   0.0       0.0       1.0   \n",
      "5751844  136810800100097912           99.0   0.0   0.0       0.0       1.0   \n",
      "\n",
      "         loss_sum_3x3  relative_pixel_distance  \n",
      "0                 0.0                 0.247313  \n",
      "1                 0.0                 0.219064  \n",
      "2                 0.0                 0.382270  \n",
      "3                 0.0                 0.301907  \n",
      "4                 0.0                 0.235105  \n",
      "...               ...                      ...  \n",
      "5751840           0.0                 0.309754  \n",
      "5751841           0.0                 0.407586  \n",
      "5751842           0.0                 0.254178  \n",
      "5751843           0.0                 0.351918  \n",
      "5751844           0.0                 0.082750  \n",
      "\n",
      "[5751845 rows x 8 columns]\n"
     ]
    }
   ],
   "source": [
    "# Convert the first column to character\n",
    "df_with_row_number.iloc[:, 0] = df_with_row_number.iloc[:, 0].astype('string')\n",
    "\n",
    "# Print the DataFrame with the first column converted to character\n",
    "print(df_with_row_number)"
   ]
  },
  {
   "cell_type": "code",
   "execution_count": 14,
   "id": "9ce884b6",
   "metadata": {},
   "outputs": [],
   "source": [
    "df_with_row_number.to_parquet('calval_hansen_forest_loss_20230425_string.parquet')"
   ]
  },
  {
   "cell_type": "code",
   "execution_count": null,
   "id": "75270d17",
   "metadata": {},
   "outputs": [],
   "source": [
    "\n"
   ]
  }
 ],
 "metadata": {
  "kernelspec": {
   "display_name": "Python 3",
   "language": "python",
   "name": "python3"
  },
  "language_info": {
   "codemirror_mode": {
    "name": "ipython",
    "version": 3
   },
   "file_extension": ".py",
   "mimetype": "text/x-python",
   "name": "python",
   "nbconvert_exporter": "python",
   "pygments_lexer": "ipython3",
   "version": "3.8.8"
  }
 },
 "nbformat": 4,
 "nbformat_minor": 5
}

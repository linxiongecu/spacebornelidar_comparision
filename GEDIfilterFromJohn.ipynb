{
 "cells": [
  {
   "cell_type": "code",
   "execution_count": 1,
   "id": "25f321d5",
   "metadata": {},
   "outputs": [
    {
     "name": "stdout",
     "output_type": "stream",
     "text": [
      "                                              /gedi/beam   \n",
      "19650000100059608  [BEAM0000,BEAM0001,BEAM0010,BEAM0011]  \\\n",
      "19650000100059609  [BEAM0000,BEAM0001,BEAM0010,BEAM0011]   \n",
      "19650000100059610  [BEAM0000,BEAM0001,BEAM0010,BEAM0011]   \n",
      "19650000100059611  [BEAM0000,BEAM0001,BEAM0010,BEAM0011]   \n",
      "19650000100059612  [BEAM0000,BEAM0001,BEAM0010,BEAM0011]   \n",
      "\n",
      "                   /gedi/digital_elevation_model /gedi/gedi_date   \n",
      "19650000100059608                     106.791985      2019-04-18  \\\n",
      "19650000100059609                     105.568634      2019-04-18   \n",
      "19650000100059610                     105.568634      2019-04-18   \n",
      "19650000100059611                     104.116432      2019-04-18   \n",
      "19650000100059612                     105.529037      2019-04-18   \n",
      "\n",
      "                   /gedi/gedi_rh_a1/botloc   \n",
      "19650000100059608                   447.50  \\\n",
      "19650000100059609                   454.75   \n",
      "19650000100059610                   434.00   \n",
      "19650000100059611                   437.00   \n",
      "19650000100059612                   480.00   \n",
      "\n",
      "                   /gedi/gedi_rh_a1/elev_highestreturn   \n",
      "19650000100059608                           116.852646  \\\n",
      "19650000100059609                           115.423477   \n",
      "19650000100059610                           117.248047   \n",
      "19650000100059611                           113.729744   \n",
      "19650000100059612                           117.224709   \n",
      "\n",
      "                   /gedi/gedi_rh_a1/elev_lowestmode   \n",
      "19650000100059608                         94.300835  \\\n",
      "19650000100059609                         95.493904   \n",
      "19650000100059610                         99.940826   \n",
      "19650000100059611                        103.952263   \n",
      "19650000100059612                         89.690475   \n",
      "\n",
      "                   /gedi/gedi_rh_a1/elev_lowestreturn   \n",
      "19650000100059608                           93.776375  \\\n",
      "19650000100059609                           91.223282   \n",
      "19650000100059610                           96.644211   \n",
      "19650000100059611                           92.339157   \n",
      "19650000100059612                           88.978706   \n",
      "\n",
      "                   /gedi/gedi_rh_a1/gedi_rh010  /gedi/gedi_rh_a1/gedi_rh020   \n",
      "19650000100059608                         5.31                         8.20  \\\n",
      "19650000100059609                        -0.56                         2.92   \n",
      "19650000100059610                        -0.07                         2.47   \n",
      "19650000100059611                        -8.01                        -5.35   \n",
      "19650000100059612                         4.87                         8.39   \n",
      "\n",
      "                   /gedi/gedi_rh_a1/gedi_rh030  ...  noise_mean_corrected   \n",
      "19650000100059608                         9.88  ...              245.3750  \\\n",
      "19650000100059609                         6.21  ...              245.5000   \n",
      "19650000100059610                         4.72  ...              245.3125   \n",
      "19650000100059611                        -3.40  ...              245.3750   \n",
      "19650000100059612                        11.57  ...              246.0625   \n",
      "\n",
      "                    rx_energy  geolocation/delta_time  geolocation/degrade   \n",
      "19650000100059608  7464.50000            4.081659e+07                    0  \\\n",
      "19650000100059609  7284.03125            4.081659e+07                    0   \n",
      "19650000100059610  7452.96875            4.081659e+07                    0   \n",
      "19650000100059611  7985.25000            4.081659e+07                    0   \n",
      "19650000100059612  7080.40625            4.081659e+07                    0   \n",
      "\n",
      "                   geolocation/digital_elevation_model  root_beam   \n",
      "19650000100059608                           106.791985   BEAM0000  \\\n",
      "19650000100059609                           105.568634   BEAM0000   \n",
      "19650000100059610                           105.568634   BEAM0000   \n",
      "19650000100059611                           104.116432   BEAM0000   \n",
      "19650000100059612                           105.529037   BEAM0000   \n",
      "\n",
      "                                                       root_file_l1b   \n",
      "19650000100059608  GEDI01_B_2019108093620_O01965_01_T05338_02_005...  \\\n",
      "19650000100059609  GEDI01_B_2019108093620_O01965_01_T05338_02_005...   \n",
      "19650000100059610  GEDI01_B_2019108093620_O01965_01_T05338_02_005...   \n",
      "19650000100059611  GEDI01_B_2019108093620_O01965_01_T05338_02_005...   \n",
      "19650000100059612  GEDI01_B_2019108093620_O01965_01_T05338_02_005...   \n",
      "\n",
      "                   nummodes    mw                  date_time  \n",
      "19650000100059608         6  19.0 2019-04-18 10:56:29.029974  \n",
      "19650000100059609         9  19.0 2019-04-18 10:56:29.038238  \n",
      "19650000100059610         7  19.0 2019-04-18 10:56:29.046502  \n",
      "19650000100059611         6  19.0 2019-04-18 10:56:29.054766  \n",
      "19650000100059612         4  19.0 2019-04-18 10:56:29.063030  \n",
      "\n",
      "[5 rows x 506 columns]\n"
     ]
    }
   ],
   "source": [
    "import pandas as pd\n",
    "\n",
    "# Read the Parquet file\n",
    "df = pd.read_parquet('/gpfs/data1/vclgp/xiongl/HeightComparisonGEDI_IS2_IS1/Data/calval_20230417.parquet')\n",
    "# Display the DataFrame\n",
    "print(df.head())"
   ]
  },
  {
   "cell_type": "code",
   "execution_count": 8,
   "id": "6cb4f4f8",
   "metadata": {},
   "outputs": [],
   "source": [
    "# Select the first 100 rows\n",
    "df_100 = df.iloc[:100, :]"
   ]
  },
  {
   "cell_type": "code",
   "execution_count": 9,
   "id": "95508295",
   "metadata": {},
   "outputs": [
    {
     "name": "stdout",
     "output_type": "stream",
     "text": [
      "DataFrame Name: 506\n"
     ]
    }
   ],
   "source": [
    "\n",
    "# Print the DataFrame name\n",
    "print(\"DataFrame Name:\", len(df_100.columns))"
   ]
  },
  {
   "cell_type": "markdown",
   "id": "8901f5ca",
   "metadata": {},
   "source": [
    "Identify valid crossovers (those that have realistic and contemporaneous values):"
   ]
  },
  {
   "cell_type": "code",
   "execution_count": 10,
   "id": "0335f05b",
   "metadata": {},
   "outputs": [],
   "source": [
    "# read valide als sites\n",
    "valid_sites = ['amani','csir_agincourt', 'csir_dnyala', 'csir_ireagh', 'csir_justicia', 'csir_venetia', 'csir_welverdient', 'drc_ghent_field_32635', \n",
    "               'drc_ghent_field_32733', 'drc_ghent_field_32734', 'gsfc_mozambique', 'jpl_lope', 'jpl_rabi', 'tanzania_wwf_germany', 'khaoyai_thailand', \n",
    "               'chowilla', 'credo', 'karawatha', 'litchfield', 'rushworth_forests', 'tern_alice_mulga', 'tern_robson_whole', 'costarica_laselva2019', \n",
    "               'skidmore_bayerischer', 'zofin_180607', 'spain_exts1', 'spain_exts2', 'spain_exts3', 'spain_exts3', 'spain_leonposada', 'spain_leon1', \n",
    "               'spain_leon2', 'spain_leon3', 'jpl_borneo_004', 'jpl_borneo_013', 'jpl_borneo_040', 'jpl_borneo_119', 'jpl_borneo_144', 'chave_paracou', \n",
    "               'embrapa_brazil_2020_and_a01', 'embrapa_brazil_2020_bon_a01', 'embrapa_brazil_2020_cau_a01', 'embrapa_brazil_2020_duc_a01', \n",
    "               'embrapa_brazil_2020_hum_a01', 'embrapa_brazil_2020_par_a01', 'embrapa_brazil_2020_rib_a01', 'embrapa_brazil_2020_tal_a01',\n",
    "               'embrapa_brazil_2020_tan_a01', 'embrapa_brazil_2020_tap_a01', 'embrapa_brazil_2020_tap_a04', 'walkerfire_20191007', \n",
    "               'neon_abby2018', 'neon_abby2019', 'neon_abby2021', 'neon_bart2018', 'neon_bart2019', 'neon_blan2019', 'neon_blan2021', \n",
    "               'neon_clbj2018', 'neon_clbj2019', 'neon_clbj2021', 'neon_clbj2021', 'neon_dela2018', 'neon_dela2019', 'neon_dela2021', \n",
    "               'neon_dsny2018', 'neon_dsny2021', 'neon_grsm2018', 'neon_grsm2021', 'neon_guan2018', 'neon_harv2018', 'neon_harv2019', \n",
    "               'neon_jerc2019', 'neon_jerc2021', 'neon_jorn2018', 'neon_jorn2019', 'neon_jorn2021', 'neon_konz2019', 'neon_konz2020', \n",
    "               'neon_leno2018', 'neon_leno2019', 'neon_leno2021', 'neon_mlbs2018', 'neon_mlbs2021', 'neon_moab2018', 'neon_moab2021', \n",
    "               'neon_niwo2019', 'neon_niwo2020', 'neon_nogp2021', 'neon_onaq2019', 'neon_onaq2021', 'neon_osbs2018', 'neon_osbs2019', \n",
    "               'neon_osbs2021', 'neon_puum2020', 'neon_rmnp2018', 'neon_rmnp2020', 'neon_scbi2019', 'neon_scbi2021', 'neon_serc2019', \n",
    "               'neon_serc2021', 'neon_sjer2019', 'neon_soap2018', 'neon_soap2019', 'neon_soap2021', 'neon_srer2019', 'neon_srer2021', \n",
    "               'neon_stei2019', 'neon_stei2020', 'neon_ster2021', 'neon_tall2018', 'neon_tall2019', 'neon_tall2021', 'neon_teak2021', \n",
    "               'neon_ukfs2018', 'neon_ukfs2019', 'neon_ukfs2020', 'neon_unde2019', 'neon_unde2020', 'neon_wood2021', 'neon_wref2019', \n",
    "               'neon_wref2021', 'neon_yell2018', 'neon_yell2019', 'neon_yell2020', \n",
    "               'neon_blan2022', 'neon_clbj2022', 'neon_grsm2022', 'neon_moab2022', 'neon_onaq2022', 'neon_rmnp2022', 'neon_serc2022', \n",
    "               'neon_stei2022', 'neon_steicheq2022', 'neon_ster2022', 'neon_unde2022', 'inpe_brazil31983', 'inpe_brazil31981', \n",
    "               'inpe_brazil31979', 'inpe_brazil31976', 'inpe_brazil31975', 'inpe_brazil31973', 'inpe_brazil31974', 'inpe_brazil31978']\n",
    "\n",
    "\n"
   ]
  },
  {
   "cell_type": "code",
   "execution_count": 15,
   "id": "85143eec",
   "metadata": {},
   "outputs": [],
   "source": [
    "import numpy as np\n",
    "nan = np.nan\n",
    "df_valid = df.query('(`/reference/canopy_ht/canopy_ht_q100` != @nan) and \\\n",
    "                    (`/reference/canopy_ht/canopy_ht_q100` < 100) and \\\n",
    "                    (`/reference/canopy_ht/canopy_ht_q100` > -5) and \\\n",
    "                    (`/reference/canopy_ht/canopy_ht_q100` > -5) and \\\n",
    "                    (`/simulation/als_zt` != @nan) and \\\n",
    "                    (`/simulation/als_zg` != @nan) and \\\n",
    "                    (`/simulation/als_rh100` < 100) and \\\n",
    "                    (`/simulation/als_rh098` > 2.5) and \\\n",
    "                    (`/land_cover_data/urban_proportion` == 0)')\n",
    "df_valid = df_valid[df_valid['/simulation/als_project'].isin(valid_sites)]"
   ]
  },
  {
   "cell_type": "code",
   "execution_count": 16,
   "id": "b8619dd8",
   "metadata": {},
   "outputs": [
    {
     "name": "stdout",
     "output_type": "stream",
     "text": [
      "Number of rows: 1649408\n"
     ]
    }
   ],
   "source": [
    "# Show the number of rows using len()\n",
    "num_rows = len(df_valid)\n",
    "print(\"Number of rows:\", num_rows)"
   ]
  },
  {
   "cell_type": "markdown",
   "id": "1893caea",
   "metadata": {},
   "source": [
    "Identify orbits affected by noise:"
   ]
  },
  {
   "cell_type": "code",
   "execution_count": 20,
   "id": "e84f3a31",
   "metadata": {},
   "outputs": [],
   "source": [
    "import json\n",
    "from pyproj import Transformer, transform\n",
    "\n",
    "\n",
    "def get_tile_id(longitude, latitude, tilesize=72):\n",
    "    ease2_origin = -17367530.445161499083042, 7314540.830638599582016\n",
    "    ease2_nbins = int(34704 / tilesize), int(14616 / tilesize)\n",
    "    ease2_binsize = 1000.895023349556141*tilesize, 1000.895023349562052*tilesize \n",
    "    transformer = Transformer.from_crs('epsg:4326', 'epsg:6933', always_xy=True)\n",
    "    x,y = transformer.transform(longitude, latitude)\n",
    "    xidx = np.uint16( (x - ease2_origin[0]) / ease2_binsize[0]) + 1\n",
    "    yidx = np.uint16( (ease2_origin[1] - y) / ease2_binsize[1]) + 1\n",
    "    tile_id = np.array([f'X{x:03d}Y{y:03d}' for x,y in zip(xidx,yidx)])\n",
    "    return tile_id\n",
    "\n",
    "fn = '/gpfs/data1/vclgp/armstonj/l4b_granule_filtering/issgedi_l4b_excluded_granules_r002_20230315a_plusManual.json'\n",
    "with open(fn, 'r') as f:\n",
    "    excluded_granules = json.load(f)\n",
    "\n",
    "tile_id = get_tile_id(df_valid['/geolocation/longitude'].to_numpy(), df_valid['/geolocation/latitude'].to_numpy())\n",
    "orbit = (df_valid.index // 10000000000000)\n",
    "granule = (df_valid.index % 100000000000) // 100000000\n",
    "granule_id = orbit * 10 + granule\n",
    "\n",
    "granule_mask = np.array([(True if g in excluded_granules[t] else False) if t in excluded_granules else False\n",
    "                         for g,t in zip(granule_id,tile_id)])\n",
    "\n",
    "df_valid = df_valid.assign(granule_mask=granule_mask)"
   ]
  },
  {
   "cell_type": "code",
   "execution_count": 32,
   "id": "5de93667",
   "metadata": {},
   "outputs": [
    {
     "name": "stdout",
     "output_type": "stream",
     "text": [
      "Number of rows: 1649408\n"
     ]
    }
   ],
   "source": [
    "df_valid.index\n",
    "num_rows = len(df_valid)\n",
    "print(\"Number of rows:\", num_rows)"
   ]
  },
  {
   "cell_type": "code",
   "execution_count": 33,
   "id": "a2b573d5",
   "metadata": {},
   "outputs": [
    {
     "name": "stdout",
     "output_type": "stream",
     "text": [
      "Number of rows: 5751845\n"
     ]
    }
   ],
   "source": [
    "### merge df with the loss /gain flag\n",
    "# calval_hansen_forest_loss_20230425.parquet \n",
    "# Read the Parquet file\n",
    "forest_loss = pd.read_parquet('/gpfs/data1/vclgp/xiongl/HeightComparisonGEDI_IS2_IS1/Data/calval_hansen_forest_loss_20230425.parquet')\n",
    "######## \n",
    "forest_loss.head()\n",
    "forest_loss.index\n",
    "print(\"Number of rows:\", len(forest_loss))"
   ]
  },
  {
   "cell_type": "code",
   "execution_count": 34,
   "id": "3c211d10",
   "metadata": {},
   "outputs": [
    {
     "name": "stdout",
     "output_type": "stream",
     "text": [
      "1648488\n"
     ]
    }
   ],
   "source": [
    "## merge df_valid and forest_loss by index\n",
    "# Merge DataFrames by index\n",
    "merged_df = pd.merge(df_valid , forest_loss, left_index=True, right_index=True)\n",
    "print(len(merged_df))"
   ]
  },
  {
   "cell_type": "markdown",
   "id": "d27cfa02",
   "metadata": {},
   "source": [
    "Identify quality crossovers (valid crossovers with quality colocation and minimum acceptable waveform fidelity)"
   ]
  },
  {
   "cell_type": "code",
   "execution_count": 37,
   "id": "79c69d4e",
   "metadata": {},
   "outputs": [],
   "source": [
    "valid = df_valid.index ### only need valid index shots.\n",
    "c = df.loc[valid,'/gedi/gedi_rh_a2/sensitivity'].to_numpy()\n",
    "pft = df.loc[valid,'/land_cover_data/modis_pft_1km'].to_numpy()\n",
    "region = df.loc[valid,'/land_cover_data/continental_region_1km'].to_numpy()\n",
    "tropics = (pft == 2) & np.isin(region, [4,5,6])\n",
    "s = np.full(c.shape, 0.95, dtype=np.float32)\n",
    "s[tropics] = 0.98\n",
    "q4 = (c > s) & (c < 1)\n",
    "\n",
    "df_quality = merged_df.query('(`/reference/ground_elev/ground_elev_count` > 10) and \\\n",
    "                            (`/gedi/gedi_rh_a1/sensitivity` > 0.7) and \\\n",
    "                            (`/gedi/gedi_rh_a1/sensitivity` < 1) and \\\n",
    "                            (`/geolocation/dz_pearson` >= 0.9) and \\\n",
    "                            (`/geolocation/offset_pearson` >= 0.9) and \\\n",
    "                            (`/geolocation/dz_count` >= 10) and \\\n",
    "                            (`/geolocation/offset_count` > 40) and \\\n",
    "                            (`/geolocation/pearson` > 0.95) and \\\n",
    "                            (`loss_sum_3x3` == 0) and \\\n",
    "                            (`granule_mask` != True) and \\\n",
    "                            (`mw` <= 202)')"
   ]
  },
  {
   "cell_type": "code",
   "execution_count": 38,
   "id": "93aac46b",
   "metadata": {
    "scrolled": true
   },
   "outputs": [
    {
     "name": "stdout",
     "output_type": "stream",
     "text": [
      "266075\n"
     ]
    }
   ],
   "source": [
    "print(len(df_quality))"
   ]
  },
  {
   "cell_type": "code",
   "execution_count": 39,
   "id": "1d5c8dde",
   "metadata": {},
   "outputs": [],
   "source": [
    "## save quality filtered shots \n",
    "# Save DataFrame to Parquet files\n",
    "df_quality.to_parquet('/gpfs/data1/vclgp/xiongl/HeightComparisonGEDI_IS2_IS1/Data/calval_john_filters_06192023.parquet')"
   ]
  },
  {
   "cell_type": "code",
   "execution_count": null,
   "id": "6fdc751b",
   "metadata": {},
   "outputs": [],
   "source": []
  }
 ],
 "metadata": {
  "kernelspec": {
   "display_name": "Python 3",
   "language": "python",
   "name": "python3"
  },
  "language_info": {
   "codemirror_mode": {
    "name": "ipython",
    "version": 3
   },
   "file_extension": ".py",
   "mimetype": "text/x-python",
   "name": "python",
   "nbconvert_exporter": "python",
   "pygments_lexer": "ipython3",
   "version": "3.8.8"
  }
 },
 "nbformat": 4,
 "nbformat_minor": 5
}
